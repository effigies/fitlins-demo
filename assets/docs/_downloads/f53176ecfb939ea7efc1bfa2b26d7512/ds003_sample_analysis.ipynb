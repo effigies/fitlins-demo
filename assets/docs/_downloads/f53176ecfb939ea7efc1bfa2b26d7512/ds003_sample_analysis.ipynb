{
 "cells": [
  {
   "cell_type": "markdown",
   "metadata": {
    "kernel": "markdown"
   },
   "source": [
    "# Walk-through FitLins Analysis\n",
    "\n",
    "This document demonstrates the command line to run a FitLins analysis.\n",
    "\n",
    "We use the [OpenNeuro](https://openneuro.org) dataset [ds000003](https://openneuro.org/datasets/ds000003/),\n",
    "with [fMRIPrep](https://fmriprep.rtfd.io)-preprocessed results at\n",
    "[///labs/poldrack/ds003_fmriprep](http://datasets.datalad.org/?dir=/labs/poldrack/ds003_fmriprep).\n",
    "\n",
    "## Preamble\n",
    "\n",
    "We will use [Datalad](https://www.datalad.org) to manage our data, which in turn depends on `git-annex`. To install `git-annex`, uncomment and run one of the following:"
   ]
  },
  {
   "cell_type": "code",
   "execution_count": null,
   "metadata": {
    "kernel": "Bash"
   },
   "outputs": [],
   "source": [
    "# Debian\n",
    "# apt-get install git-annex"
   ]
  },
  {
   "cell_type": "code",
   "execution_count": null,
   "metadata": {
    "kernel": "Bash"
   },
   "outputs": [],
   "source": [
    "# Linux with Conda\n",
    "# conda install -y git-annex"
   ]
  },
  {
   "cell_type": "code",
   "execution_count": null,
   "metadata": {
    "kernel": "Bash"
   },
   "outputs": [],
   "source": [
    "# OSX\n",
    "# open https://git-annex.branchable.com/install/OSX/"
   ]
  },
  {
   "cell_type": "markdown",
   "metadata": {},
   "source": [
    "Datalad and FitLins are Python tools.\n",
    "To ensure that everything installs correctly, we'll upgrade the [pip](https://pip.pypa.io/en/stable/) package manager\n",
    "and the [setuptools](https://setuptools.readthedocs.io/en/latest/) utilities.\n",
    "\n",
    "We will also install unreleased versions of Datalad and [Nistats](https://nistats.github.io/) to make things run a little more smoothly."
   ]
  },
  {
   "cell_type": "code",
   "execution_count": null,
   "metadata": {
    "kernel": "Bash"
   },
   "outputs": [],
   "source": [
    "pip install -q --upgrade pip setuptools\n",
    "pip install -q --upgrade \"datalad @ git+https://github.com/datalad/datalad@5f5342ce2e63b91d54f75edb87d97129a916d9ef\" \\\n",
    "                         \"nistats @ git+https://github.com/nistats/nistats.git@b69e127020df05aa8ba540f9a8d799e1dad3d602\""
   ]
  },
  {
   "cell_type": "markdown",
   "metadata": {},
   "source": [
    "## Install data and FitLins\n",
    "\n",
    "First, install the [dataset](http://datasets.datalad.org/?dir=/labs/poldrack/ds003_fmriprep) we'll be working with."
   ]
  },
  {
   "cell_type": "code",
   "execution_count": null,
   "metadata": {
    "kernel": "Bash"
   },
   "outputs": [],
   "source": [
    "# Set environment variable to make outputs more friendly\n",
    "export DATALAD_UI_PROGRESSBAR=log\n",
    "export NO_COLOR=\"1\"\n",
    "\n",
    "datalad install -r ///labs/poldrack/ds003_fmriprep\n",
    "datalad update ds003_fmriprep"
   ]
  },
  {
   "cell_type": "markdown",
   "metadata": {},
   "source": [
    "Fetch the preprocessed BOLD series and calculated confounds for the all subjects."
   ]
  },
  {
   "cell_type": "code",
   "execution_count": null,
   "metadata": {
    "kernel": "Bash"
   },
   "outputs": [],
   "source": [
    "datalad get ds003_fmriprep/sub-*/func/*_space-MNI152NLin2009cAsym_desc-*.nii.gz \\\n",
    "            ds003_fmriprep/sub-*/func/*_desc-confounds_*.tsv"
   ]
  },
  {
   "cell_type": "markdown",
   "metadata": {},
   "source": [
    "Finally, install FitLins via pip. See the [Installation](https://fitlins.readthedocs.io/en/latest/installation.html)\n",
    "section of the documentation for instructions on using Docker or Singularity. For the purposes of this tutorial,\n",
    "however, we'll assume you can install to your current Python environment without issue."
   ]
  },
  {
   "cell_type": "code",
   "execution_count": null,
   "metadata": {},
   "outputs": [],
   "source": [
    "pip install -q --upgrade fitlins==0.4.0"
   ]
  },
  {
   "cell_type": "markdown",
   "metadata": {},
   "source": [
    "## Dataset structure\n",
    "\n",
    "This dataset is organized as an fMRIPrep derivatives directory, with the original dataset included as the `sourcedata/` sub-dataset.\n",
    "The following command shows just the directories for the first three subjects. (Will probably not work with earlier versions than `tree 1.8.0`.)"
   ]
  },
  {
   "cell_type": "code",
   "execution_count": null,
   "metadata": {},
   "outputs": [],
   "source": [
    "tree -P \"sub-0[123]*.nii.gz\" -I \"figures|log\" --prune --noreport ds003_fmriprep | grep -v -- '->'"
   ]
  },
  {
   "cell_type": "markdown",
   "metadata": {},
   "source": [
    "### Model\n",
    "\n",
    "We will estimate the model found in `../models/ds000003/models/model-001_smdl.json`:"
   ]
  },
  {
   "cell_type": "code",
   "execution_count": null,
   "metadata": {},
   "outputs": [],
   "source": [
    "cat ../models/ds000003/models/model-001_smdl.json"
   ]
  },
  {
   "cell_type": "markdown",
   "metadata": {},
   "source": [
    "## Running FitLins\n",
    "\n",
    "A BIDS App takes a BIDS dataset, a target directory and an analysis level. Use the BIDS-Raw dataset (`ds003_fmriprep/sourcedata`) as the dataset, and we'll create a new directory `output`. The `dataset` level indicates the highest level of analysis, so `run`, `session` and `subject` will be run, if found in the model.\n",
    "\n",
    "In addition, we pass `ds003_fmriprep` as with the `--derivatives` (or `-d`) flag, indicating that preprocessed data should be found there. We will also pass the model from `openfmri/ds000003/model.json`"
   ]
  },
  {
   "cell_type": "code",
   "execution_count": null,
   "metadata": {},
   "outputs": [],
   "source": [
    "fitlins ds003_fmriprep/sourcedata output/ dataset \\\n",
    "    --derivatives $PWD/ds003_fmriprep \\\n",
    "    --model $PWD/../models/ds000003/models/model-001_smdl.json \\\n",
    "    --smoothing 5:run \\\n",
    "    -w scratch \\\n",
    "    --n-cpus 2"
   ]
  }
 ],
 "metadata": {
  "kernelspec": {
   "display_name": "Bash",
   "language": "bash",
   "name": "bash"
  },
  "language_info": {
   "codemirror_mode": "shell",
   "file_extension": ".sh",
   "mimetype": "text/x-sh",
   "name": "bash"
  },
  "sos": {
   "kernels": [
    [
     "Bash",
     "bash",
     "Bash",
     "#E6EEFF",
     "shell"
    ],
    [
     "markdown",
     "markdown",
     "markdown",
     "",
     ""
    ]
   ],
   "panel": {
    "displayed": true,
    "height": 0
   },
   "version": "0.19.1"
  },
  "thumbnail_figure": "images/bash.png"
 },
 "nbformat": 4,
 "nbformat_minor": 2
}
